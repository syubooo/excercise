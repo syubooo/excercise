{
  "nbformat": 4,
  "nbformat_minor": 0,
  "metadata": {
    "colab": {
      "name": "“Exercises.ipynb”的副本",
      "provenance": [],
      "collapsed_sections": [],
      "include_colab_link": true
    },
    "kernelspec": {
      "name": "python3",
      "display_name": "Python 3"
    }
  },
  "cells": [
    {
      "cell_type": "markdown",
      "metadata": {
        "id": "view-in-github",
        "colab_type": "text"
      },
      "source": [
        "<a href=\"https://colab.research.google.com/github/syubooo/excercise/blob/master/%E2%80%9CExercises_ipynb%E2%80%9D%E7%9A%84%E5%89%AF%E6%9C%AC.ipynb\" target=\"_parent\"><img src=\"https://colab.research.google.com/assets/colab-badge.svg\" alt=\"Open In Colab\"/></a>"
      ]
    },
    {
      "cell_type": "code",
      "metadata": {
        "id": "DO74sayU0SX0",
        "colab_type": "code",
        "colab": {}
      },
      "source": [
        ""
      ],
      "execution_count": null,
      "outputs": []
    },
    {
      "cell_type": "markdown",
      "metadata": {
        "id": "gc88kZHb6EbZ",
        "colab_type": "text"
      },
      "source": [
        "#The grade breakdown is as follows:\n",
        "\n",
        "- A: 90-100\n",
        "- B: 80-89\n",
        "- C: 70 - 79\n",
        "- D: 65 - 69\n",
        "- Failing: Below 65\n",
        "\n",
        "#Given the list of grades in grades_list, print the grade received by the last student in this list. So if we have\n",
        "\n",
        "    grade_list = [50, 90, 91, 88, 75]\n",
        "\n",
        "#we want to print the grade received by the student who received a 75. In this case it would be a C."
      ]
    },
    {
      "cell_type": "code",
      "metadata": {
        "id": "PxxfksiLe_PB",
        "colab_type": "code",
        "colab": {
          "base_uri": "https://localhost:8080/",
          "height": 34
        },
        "outputId": "ae5115aa-df7e-4106-a6ca-ff963ad9b173"
      },
      "source": [
        "L = [4,5, 9 ]\n",
        "L[-1]\n"
      ],
      "execution_count": null,
      "outputs": [
        {
          "output_type": "execute_result",
          "data": {
            "text/plain": [
              "9"
            ]
          },
          "metadata": {
            "tags": []
          },
          "execution_count": 4
        }
      ]
    },
    {
      "cell_type": "code",
      "metadata": {
        "id": "iZznn0MXfNv8",
        "colab_type": "code",
        "colab": {}
      },
      "source": [
        "def grade(L):\n",
        "  last_student_score = L[-1]\n",
        "  if last_student_score < 65:\n",
        "    return \"F\"\n",
        "  elif last_student_score >= 65 and last_student_score  <=69:\n",
        "    return \"D\"\n",
        "  elif last_student_score >=70 and last_student_score <=79:\n",
        "    return \"C\"\n",
        "  elif last_student_score >= 80 and last_student_score <=89:\n",
        "    return \"B\"\n",
        "  else:\n",
        "    return \"A\"      "
      ],
      "execution_count": null,
      "outputs": []
    },
    {
      "cell_type": "code",
      "metadata": {
        "id": "SwhiFIlRhOq9",
        "colab_type": "code",
        "colab": {
          "base_uri": "https://localhost:8080/",
          "height": 102
        },
        "outputId": "2b4be7fa-f011-4c21-b8dc-874790bd3584"
      },
      "source": [
        "def grade():\n",
        "  grade_list = [50, 90, 91, 88, 75]\n",
        "  for i in range(len(grade_list)):\n",
        "    if 90 <= grade_list[i] <= 100:\n",
        "      print(\"A\") \n",
        "    elif 80 <= grade_list[i] <= 89:\n",
        "      print(\"B\")\n",
        "    elif 70 <= grade_list[i] <= 79:\n",
        "      print(\"C\")\n",
        "    elif 65 <= grade_list[i] <= 69:\n",
        "      print(\"D\")\n",
        "    else:\n",
        "      print(\"Failing\")\n",
        "grade() "
      ],
      "execution_count": null,
      "outputs": [
        {
          "output_type": "stream",
          "text": [
            "Failing\n",
            "A\n",
            "A\n",
            "B\n",
            "C\n"
          ],
          "name": "stdout"
        }
      ]
    },
    {
      "cell_type": "code",
      "metadata": {
        "id": "hBUwr3b5ifCt",
        "colab_type": "code",
        "colab": {
          "base_uri": "https://localhost:8080/",
          "height": 34
        },
        "outputId": "42663c79-43f9-4220-8eaa-85316b50445a"
      },
      "source": [
        "x = float(input())"
      ],
      "execution_count": null,
      "outputs": [
        {
          "output_type": "stream",
          "text": [
            "4.5\n"
          ],
          "name": "stdout"
        }
      ]
    },
    {
      "cell_type": "code",
      "metadata": {
        "id": "rdOOHURh0Zjr",
        "colab_type": "code",
        "colab": {
          "base_uri": "https://localhost:8080/",
          "height": 34
        },
        "outputId": "4e6d7ae6-74e9-4616-d2e0-b10794e05d0c"
      },
      "source": [
        "print(x)"
      ],
      "execution_count": null,
      "outputs": [
        {
          "output_type": "stream",
          "text": [
            "4.5\n"
          ],
          "name": "stdout"
        }
      ]
    },
    {
      "cell_type": "markdown",
      "metadata": {
        "id": "aVM89-zG0jTW",
        "colab_type": "text"
      },
      "source": [
        "# Generate the first N numbers of the Fibonacci sequence where \n",
        "\n",
        "$a_0 = 1$\n",
        "\n",
        "$a_1=1$\n",
        "\n",
        "$a_n = a_{n-1} + a_{n-2}$\n",
        "\n",
        "# function : fibonacii(n) : returns $n^{th}$ fibonacii number. "
      ]
    },
    {
      "cell_type": "code",
      "metadata": {
        "id": "rEUDOik307G4",
        "colab_type": "code",
        "colab": {}
      },
      "source": [
        "# def fibonacii(n): return nth fibonacii\n",
        "def fibonacii_1(n):\n",
        "  f = []\n",
        "  f.append(1)\n",
        "  f.append(1) \n",
        "  for i in range(2, n):\n",
        "    f.append(f[i-1] + f[i-2])\n",
        "  return f[n-1]"
      ],
      "execution_count": null,
      "outputs": []
    },
    {
      "cell_type": "code",
      "metadata": {
        "id": "aLpscbBFnagd",
        "colab_type": "code",
        "colab": {}
      },
      "source": [
        "fibonacii_1"
      ],
      "execution_count": null,
      "outputs": []
    },
    {
      "cell_type": "code",
      "metadata": {
        "id": "SrxzvshWkoyA",
        "colab_type": "code",
        "colab": {
          "base_uri": "https://localhost:8080/",
          "height": 34
        },
        "outputId": "6f88507e-3d9e-4059-9d31-22321d91d793"
      },
      "source": [
        "\n",
        "def fibonacii_1(n):\n",
        "  f = [1]*n \n",
        "  for i in range(2, n):\n",
        "    f[i] = f[i-1] + f[i-2]\n",
        "  return f[n-1]  \n"
      ],
      "execution_count": null,
      "outputs": [
        {
          "output_type": "execute_result",
          "data": {
            "text/plain": [
              "55"
            ]
          },
          "metadata": {
            "tags": []
          },
          "execution_count": 52
        }
      ]
    },
    {
      "cell_type": "code",
      "metadata": {
        "id": "sWhu30Z7o5jD",
        "colab_type": "code",
        "colab": {
          "base_uri": "https://localhost:8080/",
          "height": 34
        },
        "outputId": "f58247d3-a7f3-40a8-d37c-8ffbb9e89c2a"
      },
      "source": [
        "%timeit fibonacii_1(20)  "
      ],
      "execution_count": null,
      "outputs": [
        {
          "output_type": "stream",
          "text": [
            "100000 loops, best of 3: 2.39 µs per loop\n"
          ],
          "name": "stdout"
        }
      ]
    },
    {
      "cell_type": "code",
      "metadata": {
        "id": "nfDUI3nsm0nE",
        "colab_type": "code",
        "colab": {
          "base_uri": "https://localhost:8080/",
          "height": 34
        },
        "outputId": "5b7f5c10-29c6-4abd-8460-44f33a63524c"
      },
      "source": [
        "fibonacii_1(100)"
      ],
      "execution_count": null,
      "outputs": [
        {
          "output_type": "execute_result",
          "data": {
            "text/plain": [
              "354224848179261915075"
            ]
          },
          "metadata": {
            "tags": []
          },
          "execution_count": 28
        }
      ]
    },
    {
      "cell_type": "code",
      "metadata": {
        "id": "Ik4c6y4nl44-",
        "colab_type": "code",
        "colab": {}
      },
      "source": [
        "def fibonacii_2(n):\n",
        "  if n <=2:\n",
        "    return 1\n",
        "  else: \n",
        "    f = fibonacii(n-1) + fibonacii(n-2)\n",
        "  return f\n",
        "  "
      ],
      "execution_count": null,
      "outputs": []
    },
    {
      "cell_type": "code",
      "metadata": {
        "id": "BVr6Qh9nlNJ3",
        "colab_type": "code",
        "colab": {
          "base_uri": "https://localhost:8080/",
          "height": 34
        },
        "outputId": "1f94afaf-f3df-4b48-e954-47dc50c41deb"
      },
      "source": [
        "%timeit fibonacii_2(20)"
      ],
      "execution_count": null,
      "outputs": [
        {
          "output_type": "stream",
          "text": [
            "1000 loops, best of 3: 1.49 ms per loop\n"
          ],
          "name": "stdout"
        }
      ]
    },
    {
      "cell_type": "code",
      "metadata": {
        "id": "Dagu9WNxnl5i",
        "colab_type": "code",
        "colab": {}
      },
      "source": [
        "def fibonaci(nth):\n",
        "  a = 0\n",
        "  b = 1\n",
        "  for i in range(nth):\n",
        "    c = a + b\n",
        "    a = b\n",
        "    b = c\n",
        "  return a"
      ],
      "execution_count": null,
      "outputs": []
    },
    {
      "cell_type": "code",
      "metadata": {
        "id": "hRWYbZDXnrrH",
        "colab_type": "code",
        "colab": {
          "base_uri": "https://localhost:8080/",
          "height": 34
        },
        "outputId": "b6f68882-fb22-4f9a-8062-987cd9271229"
      },
      "source": [
        "fibonaci(10)"
      ],
      "execution_count": null,
      "outputs": [
        {
          "output_type": "execute_result",
          "data": {
            "text/plain": [
              "55"
            ]
          },
          "metadata": {
            "tags": []
          },
          "execution_count": 47
        }
      ]
    },
    {
      "cell_type": "markdown",
      "metadata": {
        "id": "CVhPswCJ0-Ou",
        "colab_type": "text"
      },
      "source": [
        "# Write a function to check if the x is perfect square.  If it is, print \"x is a perfect square\".  If not print \"x is not a perfect square\"."
      ]
    },
    {
      "cell_type": "code",
      "metadata": {
        "id": "1kcOf63epiMZ",
        "colab_type": "code",
        "colab": {}
      },
      "source": [
        "def ifPerfect(n):\n",
        "  for i in range(0, int(n**(0.5) +1)):\n",
        "    if i**2 == n:\n",
        "      return \"perfect\"\n",
        "  return \"not perfect\"    "
      ],
      "execution_count": null,
      "outputs": []
    },
    {
      "cell_type": "code",
      "metadata": {
        "id": "JBcfQMHMqUGa",
        "colab_type": "code",
        "colab": {}
      },
      "source": [
        "def ifPerfect(n):\n",
        "  i = int(n**(0.5))\n",
        "  if i**2 == n:\n",
        "    return \"perfect\"\n",
        "  return \"not perfect\""
      ],
      "execution_count": null,
      "outputs": []
    },
    {
      "cell_type": "code",
      "metadata": {
        "id": "PwXHz30EqNj-",
        "colab_type": "code",
        "colab": {}
      },
      "source": [
        "a = ifPerfect(1)"
      ],
      "execution_count": null,
      "outputs": []
    },
    {
      "cell_type": "code",
      "metadata": {
        "id": "7_Py_9fTrKJy",
        "colab_type": "code",
        "colab": {
          "base_uri": "https://localhost:8080/",
          "height": 34
        },
        "outputId": "21321eda-e5b8-430b-bce2-c6778d26e666"
      },
      "source": [
        "print(a)"
      ],
      "execution_count": null,
      "outputs": [
        {
          "output_type": "stream",
          "text": [
            "('perfect', 'hello', 2)\n"
          ],
          "name": "stdout"
        }
      ]
    },
    {
      "cell_type": "markdown",
      "metadata": {
        "id": "3x_L-4Wq0W8X",
        "colab_type": "text"
      },
      "source": [
        "# Create a list L of arbitrary length. Get the median.\n",
        "\n",
        "Examples: \n",
        "\n",
        "1.   [7, 1 , 5], return 5\n",
        "2.   [8,2, 0, 1] return (1+2)/2\n",
        "\n",
        "Hint: User L.sort()     \n"
      ]
    },
    {
      "cell_type": "code",
      "metadata": {
        "id": "PHKe_gAl1UA5",
        "colab_type": "code",
        "colab": {}
      },
      "source": [
        ""
      ],
      "execution_count": null,
      "outputs": []
    },
    {
      "cell_type": "markdown",
      "metadata": {
        "id": "CG7IulDH1Uyx",
        "colab_type": "text"
      },
      "source": [
        ""
      ]
    }
  ]
}